{
 "cells": [
  {
   "cell_type": "markdown",
   "id": "908e87ce-eacc-4c21-ba73-9ecde6624958",
   "metadata": {},
   "source": [
    "# Data Science Tools and Ecosystem"
   ]
  },
  {
   "cell_type": "markdown",
   "id": "39cc173a-5a01-4d7b-a291-b32ca5bbcbf8",
   "metadata": {},
   "source": [
    "In this notebook, Data Science Tools and Ecosystem are summarized."
   ]
  },
  {
   "cell_type": "markdown",
   "id": "dfa4def1-c66a-43bb-bc75-445ac9c8931b",
   "metadata": {},
   "source": [
    "Some of the popular languages that Data Scientists use are:\n",
    "1. R\n",
    "2. Python\n",
    "3. SQL"
   ]
  },
  {
   "cell_type": "markdown",
   "id": "5b56dc2e-0070-40de-ac0c-888801f01c5e",
   "metadata": {},
   "source": [
    "Some of the commonly used libraries used by Data Scientists include:\n",
    "1. pandas\n",
    "2. plotly\n",
    "3. ggplot2\n",
    "4. dplyr"
   ]
  },
  {
   "cell_type": "markdown",
   "id": "d48166ca-f1c9-4126-be4a-09aa0eb3b7ae",
   "metadata": {},
   "source": [
    "|Data Science Tools|\n",
    "|------------------|\n",
    "|RStudio|\n",
    "|GitHub|\n",
    "|VSCode|\n",
    "|jupyter notebooks|\n"
   ]
  },
  {
   "cell_type": "markdown",
   "id": "879ff127-b532-4820-88ce-4eba9882a523",
   "metadata": {},
   "source": [
    "### Below are a few examples of evaluating arithmetic expressions in Python"
   ]
  },
  {
   "cell_type": "markdown",
   "id": "aaeec3f2-5a62-407f-80ae-6b7cb7a0c3c1",
   "metadata": {},
   "source": [
    "*This is simple arithmetic expression to multiply then add integers*"
   ]
  },
  {
   "cell_type": "code",
   "execution_count": 11,
   "id": "cd3bcb96-76a3-45e5-a379-abd24c12ae5f",
   "metadata": {},
   "outputs": [
    {
     "data": {
      "text/plain": [
       "17"
      ]
     },
     "execution_count": 11,
     "metadata": {},
     "output_type": "execute_result"
    }
   ],
   "source": [
    "(3*4)+5"
   ]
  },
  {
   "cell_type": "markdown",
   "id": "110e97c0-5c01-4323-b309-2f4fe3a1c75a",
   "metadata": {},
   "source": [
    "*This will convert 200 minutes to hours by dividing by 60*"
   ]
  },
  {
   "cell_type": "code",
   "execution_count": 22,
   "id": "dc7f2f2a-26ff-4666-a829-ee11ba678ad8",
   "metadata": {},
   "outputs": [
    {
     "name": "stdin",
     "output_type": "stream",
     "text": [
      "Minutes:  200\n"
     ]
    },
    {
     "name": "stdout",
     "output_type": "stream",
     "text": [
      "Hours: 3.3333333333333335\n"
     ]
    }
   ],
   "source": [
    "minutes = float(input(\"Minutes: \")) /60\n",
    "print(f\"Hours: {minutes}\")"
   ]
  },
  {
   "cell_type": "markdown",
   "id": "82e2e4b7-777e-4b16-bd5f-f1624ad5e7be",
   "metadata": {},
   "source": [
    "**Objectives:**"
   ]
  },
  {
   "cell_type": "markdown",
   "id": "3cac0425-5948-4b14-8c56-729410a202f6",
   "metadata": {},
   "source": [
    "- types of platforms such as RStudio, Jupyter Notebook, GitHub\n",
    "- basic setup of these platforms\n",
    "- introduction to R and Python coding"
   ]
  },
  {
   "cell_type": "markdown",
   "id": "529689b3-4105-4dc3-8162-b0d720d5dc56",
   "metadata": {},
   "source": [
    "## Author\n",
    "Rebecca Kimble\n"
   ]
  },
  {
   "cell_type": "code",
   "execution_count": null,
   "id": "aaee7af3-02d2-4aa9-ac0c-4ccd27367ce2",
   "metadata": {},
   "outputs": [],
   "source": []
  }
 ],
 "metadata": {
  "kernelspec": {
   "display_name": "Python [conda env:base] *",
   "language": "python",
   "name": "conda-base-py"
  },
  "language_info": {
   "codemirror_mode": {
    "name": "ipython",
    "version": 3
   },
   "file_extension": ".py",
   "mimetype": "text/x-python",
   "name": "python",
   "nbconvert_exporter": "python",
   "pygments_lexer": "ipython3",
   "version": "3.12.7"
  }
 },
 "nbformat": 4,
 "nbformat_minor": 5
}
